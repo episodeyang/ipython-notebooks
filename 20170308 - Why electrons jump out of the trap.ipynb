{
 "cells": [
  {
   "cell_type": "code",
   "execution_count": 1,
   "metadata": {
    "collapsed": false
   },
   "outputs": [
    {
     "name": "stdout",
     "output_type": "stream",
     "text": [
      "Could not import BEM module. Please do so manually.\n"
     ]
    }
   ],
   "source": [
    "from matplotlib import pyplot as plt\n",
    "import platform, os, sys, pprint, h5py, emoji\n",
    "from tqdm import tqdm\n",
    "import numpy as np\n",
    "from glob import glob\n",
    "from tabulate import tabulate\n",
    "from pprint import pprint\n",
    "from importlib import reload\n",
    "\n",
    "if 'Windows' in platform.system():\n",
    "    sys.path.append(r'C:\\Users\\slab\\Documents\\Code')\n",
    "    sys.path.append(r'D:\\BEMPP_shared\\Modules')\n",
    "    import interpolate_slow\n",
    "else:\n",
    "    sys.path.append(\"/Users/gkoolstra/Documents/Code\")\n",
    "    from BEMHelper import interpolate_slow\n",
    "    \n",
    "from Common import common, kfit\n",
    "from TrapAnalysis import trap_analysis\n",
    "from TrapAnalysis import artificial_anneal as anneal\n",
    "\n",
    "%matplotlib inline\n",
    "%config InlineBackend.figure_format='retina'"
   ]
  },
  {
   "cell_type": "markdown",
   "metadata": {},
   "source": [
    "# 2 Subplots with the chemical potential"
   ]
  },
  {
   "cell_type": "code",
   "execution_count": 2,
   "metadata": {
    "collapsed": false,
    "scrolled": false
   },
   "outputs": [
    {
     "name": "stdout",
     "output_type": "stream",
     "text": [
      "Directory: 170311_220139_M018V6_Greater_Trap_Area_V6.2_resonator_sweep\n",
      "[259]\n",
      "[139 143 144 152 153 162 163 170 171 181 182 188 189 199 200 206 207 214\n",
      " 215 218 219 223 224 228 229 232 233 237 238 241 242 246 247 251 252 255\n",
      " 256 258]\n",
      "[199 200 202 204 206 208 210 212 214 216 218 220 222 224 226 228 230 232\n",
      " 234 236 238 240 242 244 246 248 250 252 254 256 258]\n"
     ]
    },
    {
     "name": "stderr",
     "output_type": "stream",
     "text": [
      "100%|██████████| 70/70 [04:55<00:00,  4.30s/it]"
     ]
    },
    {
     "name": "stdout",
     "output_type": "stream",
     "text": [
      "\tOut of 373 simulations, 0 did not converge...\n"
     ]
    },
    {
     "name": "stderr",
     "output_type": "stream",
     "text": [
      "\n"
     ]
    }
   ],
   "source": [
    "import matplotlib.gridspec as gridspec\n",
    "%matplotlib inline\n",
    "#%matplotlib notebook\n",
    "\n",
    "save_path = r\"/Users/gkoolstra/Desktop/Single electron loading/Data\"\n",
    "sub_dir = r\"170311_220139_M018V6_Greater_Trap_Area_V6.2_resonator_sweep\"\n",
    "\n",
    "dbin = 0.006E-6\n",
    "bins = np.arange(-0.80E-6, 0.80E-6+dbin, dbin)\n",
    "save = False\n",
    "xbounds = (-3, 9)\n",
    "\n",
    "converged, energy, num_trapped_electrons = list(), list(), list()\n",
    "with h5py.File(os.path.join(os.path.join(save_path, sub_dir), \"Results.h5\"), \"r\") as f:\n",
    "    print(\"Directory: %s\" % sub_dir)\n",
    "    k = 0\n",
    "    \n",
    "    Vresguard = f[\"Vrg\"][()]\n",
    "    trap_grad_x_i, trap_grad_x_f, trap_grad_y_i, trap_grad_y_f = list(), list(), list(), list()\n",
    "    \n",
    "    resVs, trapVs, resgVs, trapgVs = f[\"Vres\"][()], f[\"Vtrap\"][()], f[\"Vrg\"][()], f[\"Vtg\"][()]\n",
    "    trap_sweep_idx = np.where(np.diff(trapVs, n=2) != 0)[0]\n",
    "    trapg_sweep_idx = np.where(np.diff(trapgVs, n=2) != 0)[0]\n",
    "    resg_sweep_idx = np.where(np.diff(resgVs, n=2) != 0)[0]\n",
    "    \n",
    "    print(trap_sweep_idx)\n",
    "    print(trapg_sweep_idx)\n",
    "    print(resg_sweep_idx)\n",
    "    \n",
    "    for step in f.keys():\n",
    "        if \"step\" in step:\n",
    "            electron_ri = f[step + \"/electron_final_coordinates\"][()]\n",
    "            xi, yi = anneal.r2xy(electron_ri)\n",
    "            energy.append(f[step+\"/final_energy\"][()])\n",
    "\n",
    "            valid_solution = f[step + \"/solution_converged\"][()]\n",
    "            converged.append(valid_solution)\n",
    "\n",
    "            if valid_solution:\n",
    "                electron_hist, bin_edges = np.histogram(xi, bins=bins)\n",
    "            else:\n",
    "                electron_hist = np.zeros(len(electron_hist))\n",
    "\n",
    "            if k == 0:\n",
    "                electron_histogram = electron_hist\n",
    "            else:\n",
    "                electron_histogram = np.vstack((electron_histogram, electron_hist))\n",
    "\n",
    "            k += 1\n",
    "    \n",
    "    if 0:\n",
    "        step = 201\n",
    "        rs = f['step_%04d/x_during_simulation'%step]\n",
    "        jac = f['step_%04d/jac_during_simulation'%step]\n",
    "\n",
    "        plt.figure()\n",
    "        plt.plot(np.amax(jac[:,::2], axis=1), label='grad_x')\n",
    "        plt.plot(np.amax(jac[:,1::2], axis=1), label='grad_y')\n",
    "        plt.legend(loc=0)\n",
    "        plt.yscale('log')\n",
    "        \n",
    "        for k in tqdm(range(np.shape(rs)[0])):\n",
    "            fig = plt.figure(figsize=(6.5,3.))\n",
    "            plt.plot(rs[k,::2]*1E6, rs[k,1::2]*1E6, 'o', color='deepskyblue')\n",
    "            plt.xlim(-4, 8)\n",
    "            plt.ylim(-4, 4)\n",
    "            plt.ylabel(\"$y$ ($\\mu$m)\")\n",
    "            plt.title(\"Resonator guard = %.3f V\"%Vresguard[step])\n",
    "            common.save_figure(fig, save_path=os.path.join(save_path, sub_dir, \"Annealing\"))\n",
    "            plt.close(fig)\n",
    "\n",
    "    if 1:\n",
    "        for step in tqdm(range(k)[303:]):\n",
    "            # This assumes that we sweep the resonator guard.\n",
    "            Vres, Vtrap, Vrg, Vtg = f[\"Vres\"][()][step], f[\"Vtrap\"][()][step], f[\"Vrg\"][()][step], f[\"Vtg\"][()][step]\n",
    "            \n",
    "            potential = Vres * f[\"resonator\"][()] + Vtrap * f[\"trap\"][()] + Vrg * f[\"res_guard\"][()] + \\\n",
    "                        Vtg * f[\"trap_guard\"][()]\n",
    "            xpoints, ypoints = f[\"xpoints\"][()], f[\"ypoints\"][()]\n",
    "\n",
    "            electrons = f[\"step_%04d\"%step + \"/electron_final_coordinates\"][()]\n",
    "\n",
    "            fig = plt.figure(figsize=(6.5, 7.5))\n",
    "            plt.subplot(211)\n",
    "            common.configure_axes(13)\n",
    "            colors = plt.pcolormesh(xpoints*1E6, ypoints*1E6, potential, \n",
    "                                    cmap=plt.cm.RdYlBu, vmin=-0.70, vmax=+0.30)\n",
    "\n",
    "            PP = anneal.PostProcess()\n",
    "            PP.draw_from_dxf(filename=r\"/Users/gkoolstra/Desktop/Single electron loading/Potentials/M018V6/V6.2/all_electrodes.dxf\", \n",
    "                             **{'color' : 'black', 'lw' : 0.75, 'alpha' : 0.75})\n",
    "\n",
    "            plt.plot(electrons[::2]*1E6, electrons[1::2]*1E6, 'o', color='deepskyblue')\n",
    "            \n",
    "            fd = {'rotation':90, 'ha' : 'center', 'va' : 'center', 'color' : 'white', 'size' : 15}\n",
    "            if step >= 0 and step < trap_sweep_idx[0]:\n",
    "                plt.text(1.5, 2.5, \"- - -\", fontdict=fd)\n",
    "                plt.text(1.5, -2.5, \"- - -\", fontdict=fd)\n",
    "            \n",
    "            if step >= trapg_sweep_idx[0] and step < trap_sweep_idx[0] : \n",
    "                plt.text(-1.5, 2.5, \"+ + +\", fontdict=fd)\n",
    "                plt.text(-1.5, -2.5, \"+ + +\", fontdict=fd)\n",
    "            elif step >= trap_sweep_idx[0]: \n",
    "                plt.text(-2.5, 0, \"+ + +\", fontdict=fd)\n",
    "                \n",
    "                # Inset of electron frequency:\n",
    "                \n",
    "            \n",
    "            \n",
    "            plt.xlim(xbounds[0], xbounds[1])\n",
    "            plt.ylim(-4, 4)\n",
    "            plt.ylabel(\"$y$ ($\\mu$m)\")\n",
    "            #plt.title(\"Resonator guard = %.3f V\"%Vrg)\n",
    "\n",
    "            ctr_idx = int(np.shape(ypoints)[0]/2)\n",
    "            idcs = list()\n",
    "            for xs in electrons[::2]: \n",
    "                idcs.append(common.find_nearest(xpoints[ctr_idx], xs))\n",
    "\n",
    "            plt.subplot(212)\n",
    "            \n",
    "\n",
    "            electrons_x, electrons_y = electrons[::2], electrons[1::2]\n",
    "            TS = anneal.TrapAreaSolver(xpoints[0,:], ypoints[:,0], potential.T)\n",
    "            interactions = TS.Vee(electrons_x, electrons_y)/1.602E-19\n",
    "            np.fill_diagonal(interactions, 0)\n",
    "            mu = list()\n",
    "            el = 0\n",
    "            for electron_x, electron_y in zip(electrons[::2], electrons[1::2]):\n",
    "                mu.append(np.sum(interactions[el,:]) + TS.Velectrostatic(electron_x, electron_y)/1.602E-19)\n",
    "                el += 1\n",
    "            \n",
    "            plt.plot(xpoints[ctr_idx,:]*1E6, TS.V(xpoints[ctr_idx,:], 0), color='k')\n",
    "            #plt.plot(xpoints[ctr_idx,:]*1E6, potential[ctr_idx,:], color='k')\n",
    "            plt.plot(electrons_x*1E6, np.array(mu), 'o', color='deepskyblue')\n",
    "            \n",
    "            plt.xlim(xbounds[0], xbounds[1])\n",
    "            plt.xlabel(\"$x$ ($\\mu$m)\")\n",
    "            plt.ylabel(\"Electrostatic potential (-eV)\")\n",
    "            #plt.title(\"Resonator guard = %.3f V\"%Vrg)\n",
    "            plt.ylim(-0.7, -0.44)\n",
    "            \n",
    "            common.save_figure(fig, save_path=os.path.join(save_path, sub_dir, \"2D slice\"))\n",
    "            plt.close(fig)\n",
    "\n",
    "    \n",
    "print(\"\\tOut of %d simulations, %d did not converge...\" % (len(Vresguard), len(Vresguard) - np.sum(converged)))"
   ]
  },
  {
   "cell_type": "markdown",
   "metadata": {},
   "source": [
    "# Effect of smoothing on the potential"
   ]
  },
  {
   "cell_type": "code",
   "execution_count": null,
   "metadata": {
    "collapsed": false
   },
   "outputs": [],
   "source": [
    "smoothing = 1E-2\n",
    "TS = anneal.TrapAreaSolver(xpoints[0,:], ypoints[:,0], potential.T, smoothing=smoothing)\n",
    "plt.pcolormesh(xpoints[0,:] * 1E6, ypoints[:,0] * 1E6, \n",
    "               np.log10(np.abs(potential - np.reshape(TS.V(xpoints.flatten(), ypoints.flatten()), np.shape(xpoints)))), \n",
    "               cmap=plt.cm.RdYlBu)\n",
    "plt.colorbar()\n",
    "plt.title(r\"$^{10}\\log |\\Delta| $ for $s=$%.1e\"%(smoothing))\n",
    "plt.clim(-6, -3)\n",
    "plt.xlim(-2, 6)\n",
    "plt.ylim(-4, 4)"
   ]
  },
  {
   "cell_type": "code",
   "execution_count": null,
   "metadata": {
    "collapsed": false
   },
   "outputs": [],
   "source": [
    "%matplotlib inline\n",
    "plt.figure()\n",
    "plt.plot(xpoints[0,:]*1E6, potential [int(np.shape(ypoints)[0]/2),:])\n",
    "plt.plot(xpoints[0,:]*1E6, TS.V(xpoints[0,:],0), 'r')\n",
    "plt.xlim(-1, 1)\n",
    "plt.ylim(-0.619, -0.618)"
   ]
  },
  {
   "cell_type": "code",
   "execution_count": null,
   "metadata": {
    "collapsed": false
   },
   "outputs": [],
   "source": [
    "%matplotlib inline\n",
    "plt.figure()\n",
    "plt.plot(xpoints[0,:]*1E6, TS.dVdx(xpoints[0,:],0), 'r')\n",
    "plt.xlim(-1, 1)\n",
    "plt.ylim(-1e5, 1e5)"
   ]
  },
  {
   "cell_type": "code",
   "execution_count": null,
   "metadata": {
    "collapsed": false
   },
   "outputs": [],
   "source": [
    "plt.figure()\n",
    "plt.text(0.5, 0.5, \"+ + +\", fontdict={'rotation':90, 'ha' : 'center', 'va' : 'center'})"
   ]
  },
  {
   "cell_type": "code",
   "execution_count": null,
   "metadata": {
    "collapsed": true
   },
   "outputs": [],
   "source": []
  }
 ],
 "metadata": {
  "anaconda-cloud": {},
  "kernelspec": {
   "display_name": "Python [conda root]",
   "language": "python",
   "name": "conda-root-py"
  },
  "language_info": {
   "codemirror_mode": {
    "name": "ipython",
    "version": 3
   },
   "file_extension": ".py",
   "mimetype": "text/x-python",
   "name": "python",
   "nbconvert_exporter": "python",
   "pygments_lexer": "ipython3",
   "version": "3.5.2"
  }
 },
 "nbformat": 4,
 "nbformat_minor": 1
}
