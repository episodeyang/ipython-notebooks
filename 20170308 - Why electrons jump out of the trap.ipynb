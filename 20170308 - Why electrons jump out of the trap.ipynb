{
 "cells": [
  {
   "cell_type": "code",
   "execution_count": 1,
   "metadata": {
    "collapsed": false
   },
   "outputs": [
    {
     "name": "stdout",
     "output_type": "stream",
     "text": [
      "Could not import BEM module. Please do so manually.\n"
     ]
    }
   ],
   "source": [
    "from matplotlib import pyplot as plt\n",
    "import platform, os, sys, pprint, h5py, emoji\n",
    "from tqdm import tqdm\n",
    "import numpy as np\n",
    "from glob import glob\n",
    "from tabulate import tabulate\n",
    "from pprint import pprint\n",
    "from importlib import reload\n",
    "from mpl_toolkits.axes_grid.inset_locator import inset_axes\n",
    "\n",
    "if 'Windows' in platform.system():\n",
    "    sys.path.append(r'C:\\Users\\slab\\Documents\\Code')\n",
    "    sys.path.append(r'D:\\BEMPP_shared\\Modules')\n",
    "    import interpolate_slow\n",
    "else:\n",
    "    sys.path.append(\"/Users/gkoolstra/Documents/Code\")\n",
    "    from BEMHelper import interpolate_slow\n",
    "    \n",
    "from Common import common, kfit\n",
    "from TrapAnalysis import trap_analysis\n",
    "from TrapAnalysis import artificial_anneal as anneal\n",
    "\n",
    "%matplotlib inline\n",
    "%config InlineBackend.figure_format='retina'"
   ]
  },
  {
   "cell_type": "markdown",
   "metadata": {},
   "source": [
    "# 2 Subplots with the chemical potential"
   ]
  },
  {
   "cell_type": "code",
   "execution_count": null,
   "metadata": {
    "collapsed": false,
    "scrolled": false
   },
   "outputs": [
    {
     "name": "stdout",
     "output_type": "stream",
     "text": [
      "Directory: 170403_180344_M018V6_Greater_Trap_Area_V6.2_resonator_sweep\n"
     ]
    },
    {
     "name": "stderr",
     "output_type": "stream",
     "text": [
      " 23%|██▎       | 20/87 [02:47<09:00,  8.07s/it]"
     ]
    }
   ],
   "source": [
    "import matplotlib.gridspec as gridspec\n",
    "%matplotlib inline\n",
    "#%matplotlib notebook\n",
    "\n",
    "save_path = r\"/Users/gkoolstra/Desktop/Single electron loading/Data\"\n",
    "sub_dir = r\"170403_180344_M018V6_Greater_Trap_Area_V6.2_resonator_sweep\"\n",
    "\n",
    "dbin = 0.006E-6\n",
    "bins = np.arange(-0.80E-6, 0.80E-6+dbin, dbin)\n",
    "inserted_trap_length = 40E-6\n",
    "save = False\n",
    "xbounds = (-6 + inserted_trap_length*1E6, 6 + inserted_trap_length*1E6)\n",
    "\n",
    "\n",
    "converged, energy, num_trapped_electrons = list(), list(), list()\n",
    "with h5py.File(os.path.join(os.path.join(save_path, sub_dir), \"Results.h5\"), \"r\") as f:\n",
    "    print(\"Directory: %s\" % sub_dir)\n",
    "    k = 0\n",
    "    \n",
    "    Vresguard = f[\"Vrg\"][()]\n",
    "    trap_grad_x_i, trap_grad_x_f, trap_grad_y_i, trap_grad_y_f = list(), list(), list(), list()\n",
    "    \n",
    "    resVs, trapVs, resgVs, trapgVs = f[\"Vres\"][()], f[\"Vtrap\"][()], f[\"Vrg\"][()], f[\"Vtg\"][()]\n",
    "    trap_sweep_idx = np.where(np.diff(trapVs, n=2) != 0)[0]\n",
    "    trapg_sweep_idx = np.where(np.diff(trapgVs, n=2) != 0)[0]\n",
    "    resg_sweep_idx = np.where(np.diff(resgVs, n=2) != 0)[0]\n",
    "    \n",
    "    #print(trap_sweep_idx)\n",
    "    #print(trapg_sweep_idx)\n",
    "    #print(resg_sweep_idx)\n",
    "    \n",
    "    for step in f.keys():\n",
    "        if \"step\" in step:\n",
    "            electron_ri = f[step + \"/electron_final_coordinates\"][()]\n",
    "            xi, yi = anneal.r2xy(electron_ri)\n",
    "            energy.append(f[step+\"/final_energy\"][()])\n",
    "\n",
    "            valid_solution = f[step + \"/solution_converged\"][()]\n",
    "            converged.append(valid_solution)\n",
    "\n",
    "            if valid_solution:\n",
    "                electron_hist, bin_edges = np.histogram(xi, bins=bins)\n",
    "            else:\n",
    "                electron_hist = np.zeros(len(electron_hist))\n",
    "\n",
    "            if k == 0:\n",
    "                electron_histogram = electron_hist\n",
    "            else:\n",
    "                electron_histogram = np.vstack((electron_histogram, electron_hist))\n",
    "\n",
    "            k += 1\n",
    "    \n",
    "    if 0:\n",
    "        step = 201\n",
    "        rs = f['step_%04d/x_during_simulation'%step]\n",
    "        jac = f['step_%04d/jac_during_simulation'%step]\n",
    "\n",
    "        plt.figure()\n",
    "        plt.plot(np.amax(jac[:,::2], axis=1), label='grad_x')\n",
    "        plt.plot(np.amax(jac[:,1::2], axis=1), label='grad_y')\n",
    "        plt.legend(loc=0)\n",
    "        plt.yscale('log')\n",
    "        \n",
    "        for k in tqdm(range(np.shape(rs)[0])):\n",
    "            fig = plt.figure(figsize=(6.5,3.))\n",
    "            plt.plot(rs[k,::2]*1E6, rs[k,1::2]*1E6, 'o', color='deepskyblue')\n",
    "            plt.xlim(-4, 8)\n",
    "            plt.ylim(-4, 4)\n",
    "            plt.ylabel(\"$y$ ($\\mu$m)\")\n",
    "            plt.title(\"Resonator guard = %.3f V\"%Vresguard[step])\n",
    "            common.save_figure(fig, save_path=os.path.join(save_path, sub_dir, \"Annealing\"))\n",
    "            plt.close(fig)\n",
    "\n",
    "    if 1:\n",
    "        f0 = list()\n",
    "        trap = list()\n",
    "        xpoints, ypoints = f[\"xpoints\"][()], f[\"ypoints\"][()]\n",
    "        for step in tqdm(range(k)):\n",
    "            # This assumes that we sweep the resonator guard.\n",
    "            Vres, Vtrap, Vrg, Vtg = f[\"Vres\"][()][step], f[\"Vtrap\"][()][step], f[\"Vrg\"][()][step], f[\"Vtg\"][()][step]\n",
    "            \n",
    "            potential = Vres * f[\"resonator\"][()] + Vtrap * f[\"trap\"][()] + Vrg * f[\"res_guard\"][()] + \\\n",
    "                        Vtg * f[\"trap_guard\"][()]\n",
    "            \n",
    "            electrons = f[\"step_%04d\"%step + \"/electron_final_coordinates\"][()]\n",
    "\n",
    "            fig = plt.figure(figsize=(6.5, 7.5))\n",
    "            plt.subplot(211)\n",
    "            common.configure_axes(13)\n",
    "            colors = plt.pcolormesh(xpoints*1E6, ypoints*1E6, potential, \n",
    "                                    cmap=plt.cm.RdYlBu, vmin=-0.70, vmax=+0.30)\n",
    "            \n",
    "            TS = anneal.TrapAreaSolver(xpoints[0,:], ypoints[:,0], potential.T, smoothing=0.01)\n",
    "            T = trap_analysis.TrapSolver()\n",
    "\n",
    "            PP = anneal.PostProcess()\n",
    "            PP.draw_from_dxf(r\"/Users/gkoolstra/Desktop/Single electron loading/Potentials/M018V6/V6.2/all_electrodes.dxf\",\n",
    "                             offset=(inserted_trap_length*1E6, 0),\n",
    "                             **{'color' : 'black', 'lw' : 0.75, 'alpha' : 0.75})\n",
    "\n",
    "            plt.plot(electrons[::2]*1E6, electrons[1::2]*1E6, 'o', color='deepskyblue')\n",
    "            plt.xlim(xbounds[0], xbounds[1])\n",
    "            plt.ylim(-4, 4)\n",
    "            plt.ylabel(\"$y$ ($\\mu$m)\")\n",
    "            \n",
    "#             fd = {'rotation':90, 'ha' : 'center', 'va' : 'center', 'color' : 'white', 'size' : 15}\n",
    "#             if step >= 0 and step < trap_sweep_idx[0]:\n",
    "#                 plt.text(1.5, 2.5, \"- - -\", fontdict=fd)\n",
    "#                 plt.text(1.5, -2.5, \"- - -\", fontdict=fd)\n",
    "            \n",
    "#             if step >= trapg_sweep_idx[0] and step < trap_sweep_idx[0] : \n",
    "#                 plt.text(-1.5, 2.5, \"+ + +\", fontdict=fd)\n",
    "#                 plt.text(-1.5, -2.5, \"+ + +\", fontdict=fd)\n",
    "#             if step >= trap_sweep_idx[0]: \n",
    "#                 plt.text(-2.5, 0, \"+ + +\", fontdict=fd)\n",
    "                \n",
    "#                 # There is a single electron in the trap, select it's x coordinate\n",
    "#                 #mask = electrons[::2] < 1E-6\n",
    "#                 #x_electron = electrons[::2][mask]\n",
    "                \n",
    "#                 fr, ferr = T.fit_electron_potential(ypoints[:,0] * 1E6, -TS.V(0, ypoints[:,0]), \n",
    "#                                                     fitdomain=(-0.25, 0.25), do_plot=False, plot_title='')\n",
    "#                 f_0, sigmaf = T.get_electron_frequency(fr, ferr, verbose=False)\n",
    "                \n",
    "#                 trap.append(Vtrap)\n",
    "#                 f0.append(f_0)\n",
    "            \n",
    "            #plt.title(\"Resonator guard = %.3f V\"%Vrg)\n",
    "\n",
    "            ctr_idx = int(np.shape(ypoints)[0]/2)\n",
    "            idcs = list()\n",
    "            for xs in electrons[::2]: \n",
    "                idcs.append(common.find_nearest(xpoints[ctr_idx], xs))\n",
    "\n",
    "            plt.subplot(212)\n",
    "            \n",
    "\n",
    "            electrons_x, electrons_y = electrons[::2], electrons[1::2]\n",
    "            #TS = anneal.TrapAreaSolver(xpoints[0,:], ypoints[:,0], potential.T)\n",
    "            interactions = TS.Vee(electrons_x, electrons_y)/1.602E-19\n",
    "            np.fill_diagonal(interactions, 0)\n",
    "            mu = list()\n",
    "            el = 0\n",
    "            for electron_x, electron_y in zip(electrons[::2], electrons[1::2]):\n",
    "                mu.append(np.sum(interactions[el,:]) + TS.Velectrostatic(electron_x, electron_y)/1.602E-19)\n",
    "                el += 1\n",
    "            \n",
    "            plt.plot(xpoints[ctr_idx,:]*1E6, TS.V(xpoints[ctr_idx,:], 0), color='k')\n",
    "            #plt.plot(xpoints[ctr_idx,:]*1E6, potential[ctr_idx,:], color='k')\n",
    "            plt.plot(electrons_x*1E6, np.array(mu), 'o', color='deepskyblue')\n",
    "            \n",
    "            plt.xlim(xbounds[0], xbounds[1])\n",
    "            plt.xlabel(\"$x$ ($\\mu$m)\")\n",
    "            plt.ylabel(\"Electrostatic potential (eV)\")\n",
    "            #plt.title(\"Resonator guard = %.3f V\"%Vrg)\n",
    "            plt.ylim(-0.7, -0.45)\n",
    "            \n",
    "#             if step >= trap_sweep_idx[0]: \n",
    "#                 # Trap deformation and cavity frequency: \n",
    "#                 #get_eigenfreqencies(self, alpha, beta, f0)\n",
    "                \n",
    "#                 # Inset of electron frequency:\n",
    "#                 insax = inset_axes(plt.gca(), width=\"37%\", height=1.5, loc=1)\n",
    "#                 #a = plt.axes([.55, .65, .3, .2])\n",
    "#                 #common.configure_axes(11)\n",
    "#                 insax.plot(np.array(trap), np.array(f0)/1E9, '-k', lw=3.0)\n",
    "#                 plt.xlabel(\"Trap voltage (V)\")\n",
    "#                 plt.ylabel(\"Electron freq. (GHz)\")\n",
    "#                 plt.xlim(trapVs[0], trapVs[-1])\n",
    "#                 plt.xticks([0.95, 0.85, 0.75])\n",
    "#                 plt.ylim(0, 30)\n",
    "#                 plt.yticks([0, 10, 20, 30])\n",
    "            \n",
    "            common.save_figure(fig, save_path=os.path.join(save_path, sub_dir, \"2D slice\"))\n",
    "            plt.close('all')\n",
    "\n",
    "    \n",
    "print(\"\\tOut of %d simulations, %d did not converge...\" % (len(Vresguard), len(Vresguard) - np.sum(converged)))"
   ]
  },
  {
   "cell_type": "markdown",
   "metadata": {},
   "source": [
    "# Effect of smoothing on the potential"
   ]
  },
  {
   "cell_type": "code",
   "execution_count": null,
   "metadata": {
    "collapsed": false
   },
   "outputs": [],
   "source": [
    "smoothing = 1E-2\n",
    "TS = anneal.TrapAreaSolver(xpoints[0,:], ypoints[:,0], potential.T, smoothing=smoothing)\n",
    "plt.pcolormesh(xpoints[0,:] * 1E6, ypoints[:,0] * 1E6, \n",
    "               np.log10(np.abs(potential - np.reshape(TS.V(xpoints.flatten(), ypoints.flatten()), np.shape(xpoints)))), \n",
    "               cmap=plt.cm.RdYlBu)\n",
    "plt.colorbar()\n",
    "plt.title(r\"$^{10}\\log |\\Delta| $ for $s=$%.1e\"%(smoothing))\n",
    "plt.clim(-6, -3)\n",
    "plt.xlim(-2, 6)\n",
    "plt.ylim(-4, 4)"
   ]
  },
  {
   "cell_type": "code",
   "execution_count": null,
   "metadata": {
    "collapsed": false
   },
   "outputs": [],
   "source": [
    "%matplotlib inline\n",
    "plt.figure()\n",
    "plt.plot(xpoints[0,:]*1E6, potential [int(np.shape(ypoints)[0]/2),:])\n",
    "plt.plot(xpoints[0,:]*1E6, TS.V(xpoints[0,:],0), 'r')\n",
    "plt.xlim(-1, 1)\n",
    "plt.ylim(-0.619, -0.618)"
   ]
  },
  {
   "cell_type": "code",
   "execution_count": null,
   "metadata": {
    "collapsed": false
   },
   "outputs": [],
   "source": [
    "%matplotlib inline\n",
    "plt.figure()\n",
    "plt.plot(xpoints[0,:]*1E6, TS.dVdx(xpoints[0,:],0), 'r')\n",
    "plt.xlim(-1, 1)\n",
    "plt.ylim(-1e5, 1e5)"
   ]
  },
  {
   "cell_type": "code",
   "execution_count": null,
   "metadata": {
    "collapsed": false
   },
   "outputs": [],
   "source": [
    "plt.figure()\n",
    "plt.text(0.5, 0.5, \"+ + +\", fontdict={'rotation':90, 'ha' : 'center', 'va' : 'center'})"
   ]
  },
  {
   "cell_type": "code",
   "execution_count": 6,
   "metadata": {
    "collapsed": true
   },
   "outputs": [],
   "source": [
    "import json, pprint"
   ]
  },
  {
   "cell_type": "code",
   "execution_count": 18,
   "metadata": {
    "collapsed": false
   },
   "outputs": [
    {
     "ename": "JSONDecodeError",
     "evalue": "Expecting value: line 10 column 35 (char 290)",
     "output_type": "error",
     "traceback": [
      "\u001b[0;31m---------------------------------------------------------------------------\u001b[0m",
      "\u001b[0;31mJSONDecodeError\u001b[0m                           Traceback (most recent call last)",
      "\u001b[0;32m<ipython-input-18-6a458c3f4f15>\u001b[0m in \u001b[0;36m<module>\u001b[0;34m()\u001b[0m\n\u001b[1;32m      1\u001b[0m \u001b[0;32mwith\u001b[0m \u001b[0mopen\u001b[0m\u001b[0;34m(\u001b[0m\u001b[0;34mr\"/Users/gkoolstra/Documents/Code/iPythonNotebooks/Scripts/settings.json\"\u001b[0m\u001b[0;34m)\u001b[0m \u001b[0;32mas\u001b[0m \u001b[0mdata_file\u001b[0m\u001b[0;34m:\u001b[0m\u001b[0;34m\u001b[0m\u001b[0m\n\u001b[0;32m----> 2\u001b[0;31m     \u001b[0mdata\u001b[0m \u001b[0;34m=\u001b[0m \u001b[0mjson\u001b[0m\u001b[0;34m.\u001b[0m\u001b[0mload\u001b[0m\u001b[0;34m(\u001b[0m\u001b[0mdata_file\u001b[0m\u001b[0;34m)\u001b[0m\u001b[0;34m\u001b[0m\u001b[0m\n\u001b[0m\u001b[1;32m      3\u001b[0m \u001b[0;34m\u001b[0m\u001b[0m\n\u001b[1;32m      4\u001b[0m \u001b[0mpprint\u001b[0m\u001b[0;34m.\u001b[0m\u001b[0mpprint\u001b[0m\u001b[0;34m(\u001b[0m\u001b[0mdata\u001b[0m\u001b[0;34m)\u001b[0m\u001b[0;34m\u001b[0m\u001b[0m\n",
      "\u001b[0;32m/Users/gkoolstra/anaconda/lib/python3.5/json/__init__.py\u001b[0m in \u001b[0;36mload\u001b[0;34m(fp, cls, object_hook, parse_float, parse_int, parse_constant, object_pairs_hook, **kw)\u001b[0m\n\u001b[1;32m    266\u001b[0m         \u001b[0mcls\u001b[0m\u001b[0;34m=\u001b[0m\u001b[0mcls\u001b[0m\u001b[0;34m,\u001b[0m \u001b[0mobject_hook\u001b[0m\u001b[0;34m=\u001b[0m\u001b[0mobject_hook\u001b[0m\u001b[0;34m,\u001b[0m\u001b[0;34m\u001b[0m\u001b[0m\n\u001b[1;32m    267\u001b[0m         \u001b[0mparse_float\u001b[0m\u001b[0;34m=\u001b[0m\u001b[0mparse_float\u001b[0m\u001b[0;34m,\u001b[0m \u001b[0mparse_int\u001b[0m\u001b[0;34m=\u001b[0m\u001b[0mparse_int\u001b[0m\u001b[0;34m,\u001b[0m\u001b[0;34m\u001b[0m\u001b[0m\n\u001b[0;32m--> 268\u001b[0;31m         parse_constant=parse_constant, object_pairs_hook=object_pairs_hook, **kw)\n\u001b[0m\u001b[1;32m    269\u001b[0m \u001b[0;34m\u001b[0m\u001b[0m\n\u001b[1;32m    270\u001b[0m \u001b[0;34m\u001b[0m\u001b[0m\n",
      "\u001b[0;32m/Users/gkoolstra/anaconda/lib/python3.5/json/__init__.py\u001b[0m in \u001b[0;36mloads\u001b[0;34m(s, encoding, cls, object_hook, parse_float, parse_int, parse_constant, object_pairs_hook, **kw)\u001b[0m\n\u001b[1;32m    317\u001b[0m             \u001b[0mparse_int\u001b[0m \u001b[0;32mis\u001b[0m \u001b[0;32mNone\u001b[0m \u001b[0;32mand\u001b[0m \u001b[0mparse_float\u001b[0m \u001b[0;32mis\u001b[0m \u001b[0;32mNone\u001b[0m \u001b[0;32mand\u001b[0m\u001b[0;34m\u001b[0m\u001b[0m\n\u001b[1;32m    318\u001b[0m             parse_constant is None and object_pairs_hook is None and not kw):\n\u001b[0;32m--> 319\u001b[0;31m         \u001b[0;32mreturn\u001b[0m \u001b[0m_default_decoder\u001b[0m\u001b[0;34m.\u001b[0m\u001b[0mdecode\u001b[0m\u001b[0;34m(\u001b[0m\u001b[0ms\u001b[0m\u001b[0;34m)\u001b[0m\u001b[0;34m\u001b[0m\u001b[0m\n\u001b[0m\u001b[1;32m    320\u001b[0m     \u001b[0;32mif\u001b[0m \u001b[0mcls\u001b[0m \u001b[0;32mis\u001b[0m \u001b[0;32mNone\u001b[0m\u001b[0;34m:\u001b[0m\u001b[0;34m\u001b[0m\u001b[0m\n\u001b[1;32m    321\u001b[0m         \u001b[0mcls\u001b[0m \u001b[0;34m=\u001b[0m \u001b[0mJSONDecoder\u001b[0m\u001b[0;34m\u001b[0m\u001b[0m\n",
      "\u001b[0;32m/Users/gkoolstra/anaconda/lib/python3.5/json/decoder.py\u001b[0m in \u001b[0;36mdecode\u001b[0;34m(self, s, _w)\u001b[0m\n\u001b[1;32m    337\u001b[0m \u001b[0;34m\u001b[0m\u001b[0m\n\u001b[1;32m    338\u001b[0m         \"\"\"\n\u001b[0;32m--> 339\u001b[0;31m         \u001b[0mobj\u001b[0m\u001b[0;34m,\u001b[0m \u001b[0mend\u001b[0m \u001b[0;34m=\u001b[0m \u001b[0mself\u001b[0m\u001b[0;34m.\u001b[0m\u001b[0mraw_decode\u001b[0m\u001b[0;34m(\u001b[0m\u001b[0ms\u001b[0m\u001b[0;34m,\u001b[0m \u001b[0midx\u001b[0m\u001b[0;34m=\u001b[0m\u001b[0m_w\u001b[0m\u001b[0;34m(\u001b[0m\u001b[0ms\u001b[0m\u001b[0;34m,\u001b[0m \u001b[0;36m0\u001b[0m\u001b[0;34m)\u001b[0m\u001b[0;34m.\u001b[0m\u001b[0mend\u001b[0m\u001b[0;34m(\u001b[0m\u001b[0;34m)\u001b[0m\u001b[0;34m)\u001b[0m\u001b[0;34m\u001b[0m\u001b[0m\n\u001b[0m\u001b[1;32m    340\u001b[0m         \u001b[0mend\u001b[0m \u001b[0;34m=\u001b[0m \u001b[0m_w\u001b[0m\u001b[0;34m(\u001b[0m\u001b[0ms\u001b[0m\u001b[0;34m,\u001b[0m \u001b[0mend\u001b[0m\u001b[0;34m)\u001b[0m\u001b[0;34m.\u001b[0m\u001b[0mend\u001b[0m\u001b[0;34m(\u001b[0m\u001b[0;34m)\u001b[0m\u001b[0;34m\u001b[0m\u001b[0m\n\u001b[1;32m    341\u001b[0m         \u001b[0;32mif\u001b[0m \u001b[0mend\u001b[0m \u001b[0;34m!=\u001b[0m \u001b[0mlen\u001b[0m\u001b[0;34m(\u001b[0m\u001b[0ms\u001b[0m\u001b[0;34m)\u001b[0m\u001b[0;34m:\u001b[0m\u001b[0;34m\u001b[0m\u001b[0m\n",
      "\u001b[0;32m/Users/gkoolstra/anaconda/lib/python3.5/json/decoder.py\u001b[0m in \u001b[0;36mraw_decode\u001b[0;34m(self, s, idx)\u001b[0m\n\u001b[1;32m    355\u001b[0m             \u001b[0mobj\u001b[0m\u001b[0;34m,\u001b[0m \u001b[0mend\u001b[0m \u001b[0;34m=\u001b[0m \u001b[0mself\u001b[0m\u001b[0;34m.\u001b[0m\u001b[0mscan_once\u001b[0m\u001b[0;34m(\u001b[0m\u001b[0ms\u001b[0m\u001b[0;34m,\u001b[0m \u001b[0midx\u001b[0m\u001b[0;34m)\u001b[0m\u001b[0;34m\u001b[0m\u001b[0m\n\u001b[1;32m    356\u001b[0m         \u001b[0;32mexcept\u001b[0m \u001b[0mStopIteration\u001b[0m \u001b[0;32mas\u001b[0m \u001b[0merr\u001b[0m\u001b[0;34m:\u001b[0m\u001b[0;34m\u001b[0m\u001b[0m\n\u001b[0;32m--> 357\u001b[0;31m             \u001b[0;32mraise\u001b[0m \u001b[0mJSONDecodeError\u001b[0m\u001b[0;34m(\u001b[0m\u001b[0;34m\"Expecting value\"\u001b[0m\u001b[0;34m,\u001b[0m \u001b[0ms\u001b[0m\u001b[0;34m,\u001b[0m \u001b[0merr\u001b[0m\u001b[0;34m.\u001b[0m\u001b[0mvalue\u001b[0m\u001b[0;34m)\u001b[0m \u001b[0;32mfrom\u001b[0m \u001b[0;32mNone\u001b[0m\u001b[0;34m\u001b[0m\u001b[0m\n\u001b[0m\u001b[1;32m    358\u001b[0m         \u001b[0;32mreturn\u001b[0m \u001b[0mobj\u001b[0m\u001b[0;34m,\u001b[0m \u001b[0mend\u001b[0m\u001b[0;34m\u001b[0m\u001b[0m\n",
      "\u001b[0;31mJSONDecodeError\u001b[0m: Expecting value: line 10 column 35 (char 290)"
     ]
    }
   ],
   "source": [
    "with open(r\"/Users/gkoolstra/Documents/Code/iPythonNotebooks/Scripts/settings.json\") as data_file:    \n",
    "    data = json.load(data_file)\n",
    "\n",
    "pprint.pprint(data)"
   ]
  },
  {
   "cell_type": "code",
   "execution_count": 11,
   "metadata": {
    "collapsed": false
   },
   "outputs": [
    {
     "data": {
      "text/plain": [
       "[{'id': 'blabla', 'iscategorical': '0'},\n",
       " {'id': 'blabla', 'iscategorical': '0'}]"
      ]
     },
     "execution_count": 11,
     "metadata": {},
     "output_type": "execute_result"
    }
   ],
   "source": [
    "data['maps']"
   ]
  },
  {
   "cell_type": "code",
   "execution_count": null,
   "metadata": {
    "collapsed": true
   },
   "outputs": [],
   "source": []
  }
 ],
 "metadata": {
  "anaconda-cloud": {},
  "kernelspec": {
   "display_name": "Python [conda root]",
   "language": "python",
   "name": "conda-root-py"
  },
  "language_info": {
   "codemirror_mode": {
    "name": "ipython",
    "version": 3
   },
   "file_extension": ".py",
   "mimetype": "text/x-python",
   "name": "python",
   "nbconvert_exporter": "python",
   "pygments_lexer": "ipython3",
   "version": "3.5.2"
  }
 },
 "nbformat": 4,
 "nbformat_minor": 1
}
