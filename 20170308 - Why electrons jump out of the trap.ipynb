{
 "cells": [
  {
   "cell_type": "code",
   "execution_count": 1,
   "metadata": {
    "collapsed": false
   },
   "outputs": [
    {
     "name": "stdout",
     "output_type": "stream",
     "text": [
      "Could not import BEM module. Please do so manually.\n"
     ]
    }
   ],
   "source": [
    "from matplotlib import pyplot as plt\n",
    "import platform, os, sys, pprint, h5py, emoji\n",
    "import numpy as np\n",
    "from glob import glob\n",
    "from tabulate import tabulate\n",
    "from pprint import pprint\n",
    "from importlib import reload\n",
    "\n",
    "if 'Windows' in platform.system():\n",
    "    sys.path.append(r'C:\\Users\\slab\\Documents\\Code')\n",
    "    sys.path.append(r'D:\\BEMPP_shared\\Modules')\n",
    "    import interpolate_slow\n",
    "else:\n",
    "    sys.path.append(\"/Users/gkoolstra/Documents/Code\")\n",
    "    from BEMHelper import interpolate_slow\n",
    "    \n",
    "from Common import common, kfit\n",
    "from TrapAnalysis import trap_analysis\n",
    "from TrapAnalysis import artificial_anneal as anneal\n",
    "\n",
    "%matplotlib inline\n",
    "%config InlineBackend.figure_format='retina'"
   ]
  },
  {
   "cell_type": "code",
   "execution_count": 3,
   "metadata": {
    "collapsed": false,
    "scrolled": false
   },
   "outputs": [
    {
     "name": "stdout",
     "output_type": "stream",
     "text": [
      "Directory: 170308_194150_M018V6_Greater_Trap_Area_V6.3_res_guard_sweep\n",
      "\tOut of 336 simulations, 122 did not converge...\n"
     ]
    }
   ],
   "source": [
    "import matplotlib.gridspec as gridspec\n",
    "%matplotlib inline\n",
    "#%matplotlib notebook\n",
    "\n",
    "save_path = r\"/Volumes/slab/Gerwin/Electron on helium/Electron optimization/Realistic potential/Single electron loading\"\n",
    "sub_dir = r\"170308_194150_M018V6_Greater_Trap_Area_V6.3_res_guard_sweep\"\n",
    "\n",
    "dbin = 0.006E-6\n",
    "bins = np.arange(-0.80E-6, 0.80E-6+dbin, dbin)\n",
    "save = False\n",
    "\n",
    "converged, energy, num_trapped_electrons = list(), list(), list()\n",
    "with h5py.File(os.path.join(os.path.join(save_path, sub_dir), \"Results.h5\"), \"r\") as f:\n",
    "    print(\"Directory: %s\" % sub_dir)\n",
    "    k = 0\n",
    "    \n",
    "    Vresguard = f[\"Vrg\"][()]\n",
    "    trap_grad_x_i, trap_grad_x_f, trap_grad_y_i, trap_grad_y_f = list(), list(), list(), list()\n",
    "    \n",
    "    for step in f.keys():\n",
    "        if \"step\" in step:\n",
    "            electron_ri = f[step + \"/electron_final_coordinates\"][()]\n",
    "            xi, yi = anneal.r2xy(electron_ri)\n",
    "            energy.append(f[step+\"/final_energy\"][()])\n",
    "\n",
    "            valid_solution = f[step + \"/solution_converged\"][()]\n",
    "            converged.append(valid_solution)\n",
    "\n",
    "            if valid_solution:\n",
    "                electron_hist, bin_edges = np.histogram(xi, bins=bins)\n",
    "            else:\n",
    "                electron_hist = np.zeros(len(electron_hist))\n",
    "\n",
    "            if k == 0:\n",
    "                electron_histogram = electron_hist\n",
    "            else:\n",
    "                electron_histogram = np.vstack((electron_histogram, electron_hist))\n",
    "\n",
    "            k += 1\n",
    "            \n",
    "            initial_jac = f[step + \"/initial_jacobian\"][()]\n",
    "            final_jac = f[step + \"/final_jacobian\"][()]\n",
    "            \n",
    "            trap_electrons_mask = np.intersect1d(np.where(xi > -1.2E-6)[0], np.where(xi < 1.2E-6)[0])\n",
    "            if len(trap_electrons_mask) > 0: \n",
    "                trap_grad_x_i.append(np.amax(initial_jac[2*trap_electrons_mask]))\n",
    "                trap_grad_x_f.append(np.amax(final_jac[2*trap_electrons_mask]))\n",
    "                trap_grad_y_i.append(np.amax(initial_jac[2*trap_electrons_mask+1]))\n",
    "                trap_grad_y_f.append(np.amax(final_jac[2*trap_electrons_mask+1]))\n",
    "            else: \n",
    "                trap_grad_x_i.append(np.inf)\n",
    "                trap_grad_x_f.append(np.inf)\n",
    "                trap_grad_y_i.append(np.inf)\n",
    "                trap_grad_y_f.append(np.inf)\n",
    "            \n",
    "#     plt.figure()\n",
    "#     plt.plot(trap_grad_x_i, label=\"d/dx init\")\n",
    "#     #plt.plot(trap_grad_x_f, label=\"d/dx final\")\n",
    "#     #plt.plot(trap_grad_y_f, label=\"d/dy final\")\n",
    "#     plt.plot(trap_grad_y_i, label=\"d/dy init\")\n",
    "#     plt.yscale('log')\n",
    "#     plt.legend(loc=0)\n",
    "#     plt.ylim(1E0, 1E4)\n",
    "    \n",
    "    if 1:    \n",
    "        for step in range(k):\n",
    "            Vres, Vtrap, Vrg, Vtg = f[\"Vres\"][()], f[\"Vtrap\"][()], f[\"Vrg\"][()][step], f[\"Vtg\"][()]\n",
    "\n",
    "            potential = Vres * f[\"resonator\"][()] + Vtrap * f[\"trap\"][()] + Vrg * f[\"res_guard\"][()] + \\\n",
    "                        Vtg * f[\"trap_guard\"][()]\n",
    "            xpoints, ypoints = f[\"xpoints\"][()], f[\"ypoints\"][()]\n",
    "\n",
    "            electrons = f[\"step_%04d\"%step + \"/electron_final_coordinates\"][()]\n",
    "\n",
    "            #gs = gridspec.GridSpec(2, 1, width_ratios=[1, 1]) \n",
    "\n",
    "            fig = plt.figure(figsize=(6.5,7.5))\n",
    "            #fig, ax = plt.subplots(2, 1, figsize=(6.5, 6.5) )\n",
    "            plt.subplot(211)\n",
    "            common.configure_axes(13)\n",
    "            colors = plt.pcolormesh(xpoints*1E6, ypoints*1E6, potential, cmap=plt.cm.RdYlBu)\n",
    "\n",
    "            PP = anneal.PostProcess()\n",
    "            PP.draw_from_dxf(filename=r\"/Volumes/slab/Gerwin/Electron on helium/Maxwell/M018 Yggdrasil/M018V6/V6.3/all_electrodes.dxf\", \n",
    "                             **{'color' : 'black', 'lw' : 0.75, 'alpha' : 0.75})\n",
    "\n",
    "            plt.plot(electrons[::2]*1E6, electrons[1::2]*1E6, 'o', color='deepskyblue')\n",
    "            plt.xlim(-2, 8)\n",
    "            plt.ylim(-4, 4)\n",
    "            plt.ylabel(\"$y$ ($\\mu$m)\")\n",
    "            plt.title(\"Resonator guard = %.3f V\"%Vrg)\n",
    "\n",
    "            ctr_idx = int(np.shape(ypoints)[0]/2)\n",
    "            idcs = list()\n",
    "            for xs in electrons[::2]: \n",
    "                idcs.append(common.find_nearest(xpoints[ctr_idx], xs))\n",
    "\n",
    "            plt.subplot(212)\n",
    "            plt.plot(xpoints[ctr_idx,:]*1E6, potential[ctr_idx,:], color='k')\n",
    "            plt.xlim(-2, 8)\n",
    "            plt.xlabel(\"$x$ ($\\mu$m)\")\n",
    "            plt.ylabel(\"Electrostatic potential (-eV)\")\n",
    "            #plt.title(\"Resonator guard = %.3f V\"%Vrg)\n",
    "            plt.ylim(-0.7, -0.55)\n",
    "\n",
    "            electrons_x, electrons_y = electrons[::2], electrons[1::2]\n",
    "            TS = anneal.TrapAreaSolver(xpoints[0,:], ypoints[:,0], potential.T)\n",
    "            interactions = TS.Vee(electrons_x, electrons_y)/1.602E-19\n",
    "            np.fill_diagonal(interactions, 0)\n",
    "            mu = list()\n",
    "            el = 0\n",
    "            for electron_x, electron_y in zip(electrons[::2], electrons[1::2]):\n",
    "                mu.append(np.sum(interactions[el,:]) + TS.Velectrostatic(electron_x, electron_y)/1.602E-19)\n",
    "                el += 1\n",
    "\n",
    "            plt.plot(electrons_x*1E6, np.array(mu), 'o', color='deepskyblue')\n",
    "            \n",
    "            common.save_figure(fig, save_path=os.path.join(save_path, sub_dir, \"Figures\"))\n",
    "            plt.close(fig)\n",
    "        \n",
    "#         trap_mask = np.logical_and(electrons[::2] > -1.2E-6, electrons[::2] < 1.2E-6)\n",
    "#         trap_electrons_x, trap_electrons_y = electrons[::2][trap_mask], electrons[1::2][trap_mask]\n",
    "#         resonator_mask = np.where(electrons[::2] > 1.2E-6)[0]\n",
    "#         res_electrons_x, res_electrons_y = electrons[::2][resonator_mask], electrons[1::2][resonator_mask]\n",
    "\n",
    "#         res_interactions = TS.Vee(res_electrons_x, res_electrons_y)/1.602E-19\n",
    "#         np.fill_diagonal(res_interactions, 0)\n",
    "#         mu = list()\n",
    "#         el = 0\n",
    "#         for res_electron_x, res_electron_y in zip(res_electrons_x, res_electrons_y):\n",
    "#             mu.append(np.sum(res_interactions[el,:]) + TS.Velectrostatic(res_electron_x, res_electron_y)/1.602E-19)\n",
    "#             el += 1\n",
    "\n",
    "#         plt.plot(res_electrons_x*1E6, np.array(mu), 'o', color='deepskyblue')\n",
    "\n",
    "#         trap_interactions = TS.Vee(trap_electrons_x, trap_electrons_y)/1.602E-19\n",
    "#         np.fill_diagonal(trap_interactions, 0)\n",
    "#         el = 0\n",
    "#         mu = list()\n",
    "#         for trap_electron_x, trap_electron_y in zip(trap_electrons_x, trap_electrons_y):\n",
    "#             mu.append(np.sum(trap_interactions[el,:]) + TS.Velectrostatic(trap_electron_x, trap_electron_y)/1.602E-19)\n",
    "#             el += 1\n",
    "\n",
    "#         plt.plot(trap_electrons_x*1E6, np.array(mu), 'o', color='deepskyblue')\n",
    "\n",
    "    \n",
    "print(\"\\tOut of %d simulations, %d did not converge...\" % (len(Vresguard), len(Vresguard) - np.sum(converged)))"
   ]
  },
  {
   "cell_type": "code",
   "execution_count": 168,
   "metadata": {
    "collapsed": false
   },
   "outputs": [
    {
     "data": {
      "image/png": "[encoded data removed]",
      "text/plain": [
       "<matplotlib.figure.Figure at 0x4158f09b0>"
      ]
     },
     "metadata": {
      "image/png": {
       "height": 356,
       "width": 528
      }
     },
     "output_type": "display_data"
    }
   ],
   "source": [
    "%matplotlib inline\n",
    "import dxfgrabber\n",
    "dxf=dxfgrabber.readfile(\"/Volumes/slab/Gerwin/Electron on helium/Maxwell/M018 Yggdrasil/M018V6/V6.3/all_electrodes.dxf\")\n",
    "\n",
    "output=[entity for entity in dxf.entities]\n",
    "for o in output:\n",
    "    if o.dxftype == \"LWPOLYLINE\":\n",
    "        list_of_vertices = o.points\n",
    "        r = np.array(list_of_vertices)\n",
    "        x = r[:,0]\n",
    "        y = r[:,1]\n",
    "        plt.plot(x, y, 'k')"
   ]
  },
  {
   "cell_type": "code",
   "execution_count": null,
   "metadata": {
    "collapsed": true
   },
   "outputs": [],
   "source": []
  }
 ],
 "metadata": {
  "kernelspec": {
   "display_name": "Python [conda root]",
   "language": "python",
   "name": "conda-root-py"
  },
  "language_info": {
   "codemirror_mode": {
    "name": "ipython",
    "version": 3
   },
   "file_extension": ".py",
   "mimetype": "text/x-python",
   "name": "python",
   "nbconvert_exporter": "python",
   "pygments_lexer": "ipython3",
   "version": "3.5.2"
  }
 },
 "nbformat": 4,
 "nbformat_minor": 1
}
